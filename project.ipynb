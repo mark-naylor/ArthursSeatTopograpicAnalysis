{
 "cells": [
  {
   "cell_type": "markdown",
   "metadata": {},
   "source": [
    "# Plotting and analysis of scalar fields - topography"
   ]
  },
  {
   "cell_type": "code",
   "execution_count": null,
   "metadata": {},
   "outputs": [],
   "source": [
    "# This is a code cell without any tag. You can put convenience code here,\n",
    "# but it won't be included in any way in the final project.\n",
    "# For example, to be able to run tests locally in the notebook\n",
    "# you need to install the following:\n",
    "# pip install nose\n",
    "# pip install git+https://github.com/datacamp/ipython_nose\n",
    "# and then load in the ipython_nose extension like this:\n",
    "%load_ext ipython_nose"
   ]
  },
  {
   "cell_type": "markdown",
   "metadata": {
    "tags": [
     "type:NotebookTask"
    ]
   },
   "source": [
    "## 1a. Arthur's Seat: Load and plot the topographic data"
   ]
  },
  {
   "cell_type": "markdown",
   "metadata": {
    "ExecuteTime": {
     "end_time": "2018-03-12T15:02:53.899285Z",
     "start_time": "2018-03-12T15:02:53.893807Z"
    },
    "tags": [
     "@context"
    ]
   },
   "source": [
    "File `datasets\\ArthursSeat.txt` contains elevations in metres on an 800×800 grid with 2 m horizontal spacing for Edinburgh's Carboniferous volcano - Arthur's Seat. The data is stored in a file with 800 lines each of which has 800 elevations on each line.\n",
    "\n",
    "Let's start by loading and plotting this image."
   ]
  },
  {
   "cell_type": "markdown",
   "metadata": {
    "tags": [
     "@instructions"
    ]
   },
   "source": [
    "- Start by reading the elevation file into an array $z$ . Given that the data within the file is already organised within a grid, we can just call `loadtxt` with the file name. \n",
    "- We can plot the elevation data using `plt.imshow(z)`, but there are several things that we will want to change about this default map.\n",
    "- To have a colour bar beside the map, add `cbar = plt.colorbar(shrink=2)`. The default value of 1 for the shrink keyword argument gives a bar which is taller than the map in this case; find a value < 1 that will make the bar close to the same height as the map.\n",
    "- Having assigned a name to the colour bar object, there are several methods that can modify it. Use the `set_label()` method with a text string to label the bar, e.g. `cbar.set_label('Elevation (m)')`, and use `cbar.set_ticks(list)` with a list of numbers to set the locations of tick marks on the bar.\n",
    "- Add a title to the plot using `plt.title('A good title')`\n",
    "\n",
    "<hr>\n",
    "\n",
    "## Good to know\n",
    "\n",
    "- <a href=\"http://www.imagexd.org/tutorial/lessons/0_images_are_arrays.html\">Images as numpy arrays</a>\n",
    "- <a href=\"https://matplotlib.org/users/image_tutorial.html\">More broad application to image analysis and processing</a>"
   ]
  },
  {
   "cell_type": "markdown",
   "metadata": {
    "tags": [
     "@hint"
    ]
   },
   "source": [
    "HINTS"
   ]
  },
  {
   "cell_type": "code",
   "execution_count": null,
   "metadata": {
    "ExecuteTime": {
     "end_time": "2018-03-12T15:01:15.710624Z",
     "start_time": "2018-03-12T15:01:15.023100Z"
    },
    "tags": [
     "@sample_code"
    ]
   },
   "outputs": [],
   "source": [
    "%matplotlib inline\n",
    "\n",
    "# import the NUMericalPYthon and plotting packages\n",
    "import numpy as np\n",
    "import matplotlib.pyplot as plt\n",
    "\n",
    "# Load the data\n",
    "z = np.loadtxt(___)\n",
    "\n",
    "# Plot the elevation data\n",
    "plt.imshow(___)\n",
    "\n"
   ]
  },
  {
   "cell_type": "code",
   "execution_count": null,
   "metadata": {
    "ExecuteTime": {
     "end_time": "2018-03-12T16:17:28.230216Z",
     "start_time": "2018-03-12T16:17:27.509224Z"
    },
    "tags": [
     "@solution"
    ]
   },
   "outputs": [],
   "source": [
    "import numpy as np\n",
    "import matplotlib.pyplot as plt\n",
    "\n",
    "z=np.loadtxt('datasets/ArthursSeat.txt')\n",
    "\n",
    "plt.imshow(z)\n",
    "\n",
    "cbar = plt.colorbar(shrink=1)\n",
    "cbar.set_label('Elevation (m)')\n",
    "plt.title('Arthurs seat elevation')\n",
    "\n",
    "\n",
    "# The @solution should mirror the corresponding @sample_code,\n",
    "# but with the missing parts filled in.\n",
    "like_this = 'missing part filled in'\n"
   ]
  },
  {
   "cell_type": "code",
   "execution_count": null,
   "metadata": {
    "tags": [
     "@tests"
    ]
   },
   "outputs": [],
   "source": [
    "%%nose\n",
    "\n",
    "# one or more tests of the students code. \n",
    "# The @solution should pass the tests.\n",
    "# The purpose of the tests is to try to catch common errors and to \n",
    "# give the student a hint on how to resolve these errors.\n",
    "\n",
    "def test_example():\n",
    "    assert like_this == 'missing part filled in', \\\n",
    "    'The student will see this message if the test fails'"
   ]
  },
  {
   "cell_type": "markdown",
   "metadata": {
    "tags": [
     "type:NotebookTask"
    ]
   },
   "source": [
    "## 1b. Arthur's Seat: Orientating and scaling the map"
   ]
  },
  {
   "cell_type": "markdown",
   "metadata": {
    "tags": [
     "@context"
    ]
   },
   "source": [
    "\n",
    "If you are familiar with Arthur's Seat in Edinburgh, you will realise that the image is flipped in the north-south direction. Note that the numbers on the $y$ axis are in reverse order. \n",
    "\n",
    "This is because the convention for storing images (i.e. a digital photograph will be shown correctly) is to store the top-right pixel first. This can be corrected for map axes with an origin in the lower left corner by adding keyword argument `origin='lower'` to the `imshow` command.\n",
    "\n",
    "We will also do several other corrections to improve the presentation of this map."
   ]
  },
  {
   "cell_type": "markdown",
   "metadata": {
    "tags": [
     "@instructions"
    ]
   },
   "source": [
    "In this task we will look at how to orientate and scale the image appropriately.\n",
    "\n",
    "- Add keyword argument `origin='lower'` to the `imshow()` command inside the brackets and separated from the other arguments using a comma.\n",
    "- Keyword argument `cmap` in `plt.imshow()` selects the colour map. We can convert it to a greyscale using `cmap='gray'`. Experiment with the Matplotlib colour maps listed at <a href=\"http://matplotlib.org/examples/color/colormaps_reference.html\">Matplotlib colormaps refrence</a> (and see also  <a href=\"http://matplotlib.org/users/colormaps.html\">Matplotlibs colormaps</a>) to find ones that you think are particularly good or bad for showing this data.\n",
    "- The axes are labelled in grid coordinates (numbers of points) rather than geographical coordinates. The correct extents of the axes ($800 × 2 = 1600$ m) can be set with `imshow` with keyword argument `extent=[0,1600,0,1600]`. Use `plt.xticks()` and `plt.yticks()` if you want to control where the axis tick marks are placed and how they are labelled.\n"
   ]
  },
  {
   "cell_type": "markdown",
   "metadata": {
    "tags": [
     "@hint"
    ]
   },
   "source": [
    "This is a hint the student will get if they click the hint button at the bottom of the instructions. It's the last help the student can get, so make it helpful. \n",
    "\n",
    "```\n",
    "# Feel free to include links to documentation.\n",
    "print(\"And code snippets in the hint.\")\n",
    "```"
   ]
  },
  {
   "cell_type": "code",
   "execution_count": 9,
   "metadata": {
    "ExecuteTime": {
     "end_time": "2018-03-14T10:50:59.082438Z",
     "start_time": "2018-03-14T10:50:59.077870Z"
    },
    "tags": [
     "@sample_code"
    ]
   },
   "outputs": [],
   "source": [
    "# Copy your previous solution and use the instructions to build on it\n"
   ]
  },
  {
   "cell_type": "code",
   "execution_count": null,
   "metadata": {
    "ExecuteTime": {
     "end_time": "2018-03-12T16:20:48.811354Z",
     "start_time": "2018-03-12T16:20:48.054768Z"
    },
    "tags": [
     "@solution"
    ]
   },
   "outputs": [],
   "source": [
    "import numpy as np\n",
    "import matplotlib.pyplot as plt\n",
    "\n",
    "z=np.loadtxt('datasets/ArthursSeat.txt')\n",
    "\n",
    "plt.imshow(z,origin='lower',cmap='gray',extent=[0,1600,0,1600])\n",
    "\n",
    "cbar = plt.colorbar(shrink=1)\n",
    "cbar.set_label('Elevation (m)')\n",
    "cbar.set_ticks([50,100,150,200])\n",
    "plt.title('Arthurs seat elevation')\n",
    "\n",
    "like_this = 'missing part filled in'"
   ]
  },
  {
   "cell_type": "code",
   "execution_count": null,
   "metadata": {
    "tags": [
     "@tests"
    ]
   },
   "outputs": [],
   "source": [
    "%%nose\n",
    "\n",
    "# one or more tests of the students code. \n",
    "# The @solution should pass the tests.\n",
    "# The purpose of the tests is to try to catch common errors and to \n",
    "# give the student a hint on how to resolve these errors.\n",
    "\n",
    "def test_example():\n",
    "    assert like_this == 'missing part filled in', \\\n",
    "    'The student will see this message if the test fails'"
   ]
  },
  {
   "cell_type": "markdown",
   "metadata": {
    "tags": [
     "type:NotebookTask"
    ]
   },
   "source": [
    "## 1c. Arthur's Seat: Extract the EW and NS gradient components"
   ]
  },
  {
   "cell_type": "markdown",
   "metadata": {
    "tags": [
     "@context"
    ]
   },
   "source": [
    "Given the topographic map (which is a scalar field), we can extract the gradients in the EW and NS directions by applying the gradient operator - this is done with `np.gradient()`."
   ]
  },
  {
   "cell_type": "markdown",
   "metadata": {
    "tags": [
     "@instructions"
    ]
   },
   "source": [
    "In this task, you will calculate and plot maps of the NS and EW gradients using `np.gradient()`. \n",
    "\n",
    "- Set `dx` to be the grid spacing in meters.\n",
    "- Pass the elevation data and the grid spacing to `np.gradient`\n",
    "\n",
    "<hr>\n",
    "\n",
    "Note that `np.gradient` returns two variables; a map of the NS gradients and a map of the EW gradients. These have been set to `dzdy` and `dzdx` respectively.\n",
    "\n",
    "- You can find out more about the gradient function by running `?np.gradient` in an empty cell. Cells can be added using the + button in the toolbar above.\n",
    "- Alternatively, look at the help page online <a href=\"https://docs.scipy.org/doc/numpy/reference/generated/numpy.gradient.html\">Numpy Gradient</a>. \n",
    "- The examples near the bottom of the help pages are particularly useful."
   ]
  },
  {
   "cell_type": "markdown",
   "metadata": {
    "tags": [
     "@hint"
    ]
   },
   "source": [
    "This is a hint the student will get if they click the hint button at the bottom of the instructions. It's the last help the student can get, so make it helpful. \n",
    "\n",
    "```\n",
    "# Feel free to include links to documentation.\n",
    "print(\"And code snippets in the hint.\")\n",
    "```"
   ]
  },
  {
   "cell_type": "code",
   "execution_count": 1,
   "metadata": {
    "ExecuteTime": {
     "end_time": "2018-03-12T16:41:36.200334Z",
     "start_time": "2018-03-12T16:41:36.064076Z"
    },
    "tags": [
     "@sample_code"
    ]
   },
   "outputs": [
    {
     "ename": "NameError",
     "evalue": "name 'np' is not defined",
     "output_type": "error",
     "traceback": [
      "\u001b[0;31m---------------------------------------------------------------------------\u001b[0m",
      "\u001b[0;31mNameError\u001b[0m                                 Traceback (most recent call last)",
      "\u001b[0;32m<ipython-input-1-068951aa1b68>\u001b[0m in \u001b[0;36m<module>\u001b[0;34m()\u001b[0m\n\u001b[1;32m      4\u001b[0m \u001b[0mdx\u001b[0m \u001b[0;34m=\u001b[0m \u001b[0;36m2\u001b[0m\u001b[0;34m\u001b[0m\u001b[0m\n\u001b[1;32m      5\u001b[0m \u001b[0;34m\u001b[0m\u001b[0m\n\u001b[0;32m----> 6\u001b[0;31m \u001b[0mdzdy\u001b[0m\u001b[0;34m,\u001b[0m \u001b[0mdzdx\u001b[0m \u001b[0;34m=\u001b[0m \u001b[0mnp\u001b[0m\u001b[0;34m.\u001b[0m\u001b[0mgradient\u001b[0m\u001b[0;34m(\u001b[0m\u001b[0mz\u001b[0m\u001b[0;34m,\u001b[0m \u001b[0mdx\u001b[0m\u001b[0;34m)\u001b[0m\u001b[0;34m\u001b[0m\u001b[0m\n\u001b[0m\u001b[1;32m      7\u001b[0m \u001b[0;34m\u001b[0m\u001b[0m\n\u001b[1;32m      8\u001b[0m \u001b[0;31m# this means we now write to figure 2 when we plot\u001b[0m\u001b[0;34m\u001b[0m\u001b[0;34m\u001b[0m\u001b[0m\n",
      "\u001b[0;31mNameError\u001b[0m: name 'np' is not defined"
     ]
    }
   ],
   "source": [
    "# Specify the grid width\n",
    "dx = ___\n",
    "\n",
    "# note there are 2 return values for gradient()\n",
    "dzdy, dzdx = np.gradient(___, ___)\n",
    "\n",
    "# this means we now write to figure 2 when we plot\n",
    "plt.figure(2,figsize=(18,18))\n",
    "\n",
    "# Plot the EW slopes\n",
    "plt.subplot(2,1,1)\n",
    "plt.imshow(dzdx, origin='lower', cmap='jet', extent=[0,1600,0,1600], vmin=-.5, vmax=.5)\n",
    "plt.xticks(range(400,2000,400))\n",
    "plt.yticks(range(400,2000,400))\n",
    "cbar = plt.colorbar(shrink=1,orientation='horizontal')\n",
    "cbar.set_label('eastward slope')\n",
    "cbar.set_ticks([-.5,0,.5])\n",
    "\n",
    "# Plot the NS slopes\n",
    "plt.subplot(2,1,2)\n",
    "plt.imshow(dzdy,origin='lower',cmap='jet',extent=[0,1600,0,1600],vmin=-.5,vmax=.5)\n",
    "plt.xticks(range(400,2000,400))\n",
    "plt.yticks(range(400,2000,400))\n",
    "cbar = plt.colorbar(shrink=1,orientation='horizontal')\n",
    "cbar.set_label('northward slope')\n",
    "cbar.set_ticks([-.5,0,.5])\n",
    "\n"
   ]
  },
  {
   "cell_type": "code",
   "execution_count": null,
   "metadata": {
    "tags": [
     "@solution"
    ]
   },
   "outputs": [],
   "source": [
    "# Your solution code. This won't be shown to the student.\n",
    "\n",
    "# The @solution should mirror the corresponding @sample_code,\n",
    "# but with the missing parts filled in.\n",
    "like_this = 'missing part filled in'\n",
    "\n",
    "# It should consist of up to 10 lines of code and comments \n",
    "# and take at most 5 seconds to execute on an average laptop."
   ]
  },
  {
   "cell_type": "code",
   "execution_count": null,
   "metadata": {
    "tags": [
     "@tests"
    ]
   },
   "outputs": [],
   "source": [
    "%%nose\n",
    "\n",
    "# one or more tests of the students code. \n",
    "# The @solution should pass the tests.\n",
    "# The purpose of the tests is to try to catch common errors and to \n",
    "# give the student a hint on how to resolve these errors.\n",
    "\n",
    "def test_example():\n",
    "    assert like_this == 'missing part filled in', \\\n",
    "    'The student will see this message if the test fails'"
   ]
  },
  {
   "cell_type": "markdown",
   "metadata": {
    "tags": [
     "type:NotebookTask"
    ]
   },
   "source": [
    "## 1d. Arthur's Seat: Calculate and plot a map of the slope angles"
   ]
  },
  {
   "cell_type": "markdown",
   "metadata": {
    "tags": [
     "@context"
    ]
   },
   "source": [
    "The gradient function returned arrays the EW and NS slopes. We can use Pythagarous to calculate the slope in the steepest direction."
   ]
  },
  {
   "cell_type": "markdown",
   "metadata": {
    "tags": [
     "@instructions"
    ]
   },
   "source": [
    "The task instructions start with a brief sentence framing the task.\n",
    "\n",
    "- Use Pythagarous to combine the EW and NS slopes to find the slope in the steepest direction\n",
    "- Use `np.rad2deg()` to convert this slope to an angle in the unit of degrees\n",
    "- Plot a map of the slope angle\n",
    "\n",
    "\n",
    "<hr>\n",
    "\n",
    "Give more info, context, and links to external documentation under the horizontal ruler. The instructions should at most have 600 characters."
   ]
  },
  {
   "cell_type": "markdown",
   "metadata": {
    "tags": [
     "@hint"
    ]
   },
   "source": [
    "This is a hint the student will get if they click the hint button at the bottom of the instructions. It's the last help the student can get, so make it helpful. \n",
    "\n",
    "```\n",
    "# Feel free to include links to documentation.\n",
    "print(\"And code snippets in the hint.\")\n",
    "```"
   ]
  },
  {
   "cell_type": "code",
   "execution_count": null,
   "metadata": {
    "ExecuteTime": {
     "end_time": "2018-03-12T14:49:22.543927Z",
     "start_time": "2018-03-12T14:49:22.274006Z"
    },
    "tags": [
     "@sample_code"
    ]
   },
   "outputs": [],
   "source": [
    "# hillslope magnitude calculated using Pythagarous\n",
    "slope = ___\n",
    "\n",
    "# hillslope angle -- degrees above or below horizontal\n",
    "slopeangle = np.___(np.___(___))\n",
    "\n",
    "plt.imshow(slopeangle,origin='lower',cmap='jet',extent=[0,1600,0,1600])\n",
    "plt.colorbar(shrink=1,orientation='horizontal')\n",
    "plt.xticks(range(400,2000,400))\n",
    "plt.yticks(range(400,2000,400))\n",
    "cbar.set_label('slope angle')"
   ]
  },
  {
   "cell_type": "code",
   "execution_count": null,
   "metadata": {
    "tags": [
     "@solution"
    ]
   },
   "outputs": [],
   "source": [
    "# hillslope magnitude calculated using Pythagarous\n",
    "slope = np.sqrt(dzdx**2 + dzdy**2)\n",
    "\n",
    "# hillslope angle -- degrees above or below horizontal\n",
    "slopeangle = np.rad2deg( np.arctan(slope) )\n",
    "\n",
    "# plot the slope map using imshow\n",
    "plt.imshow(slopeangle,origin='lower',cmap='jet',extent=[0,1600,0,1600])\n",
    "plt.colorbar(shrink=1,orientation='horizontal')\n",
    "plt.xticks(range(400,2000,400))\n",
    "plt.yticks(range(400,2000,400))\n",
    "cbar.set_label('slope angle')"
   ]
  },
  {
   "cell_type": "code",
   "execution_count": null,
   "metadata": {
    "tags": [
     "@tests"
    ]
   },
   "outputs": [],
   "source": [
    "%%nose\n",
    "\n",
    "# one or more tests of the students code. \n",
    "# The @solution should pass the tests.\n",
    "# The purpose of the tests is to try to catch common errors and to \n",
    "# give the student a hint on how to resolve these errors.\n",
    "\n",
    "def test_example():\n",
    "    assert like_this == 'missing part filled in', \\\n",
    "    'The student will see this message if the test fails'"
   ]
  },
  {
   "cell_type": "markdown",
   "metadata": {
    "tags": [
     "type:NotebookTask"
    ]
   },
   "source": [
    "## 1e. Arthur's Seat: Calculate and plot the slope orientations"
   ]
  },
  {
   "cell_type": "markdown",
   "metadata": {
    "tags": [
     "@context"
    ]
   },
   "source": [
    "We can also use the magnitude of the NS and EW slope components to calculate the geographic orientation of the steepest slope direction."
   ]
  },
  {
   "cell_type": "markdown",
   "metadata": {
    "tags": [
     "@instructions"
    ]
   },
   "source": [
    "The task instructions start with a brief sentence framing the task.\n",
    "\n",
    "- The specific task instructions go in a bullet point list.\n",
    "- One bullet per sub task.\n",
    "- At most 4 bullets.\n",
    "\n",
    "<hr>\n",
    "\n",
    "Give more info, context, and links to external documentation under the horizontal ruler. The instructions should at most have 600 characters."
   ]
  },
  {
   "cell_type": "markdown",
   "metadata": {
    "tags": [
     "@hint"
    ]
   },
   "source": [
    "This is a hint the student will get if they click the hint button at the bottom of the instructions. It's the last help the student can get, so make it helpful. \n",
    "\n",
    "```\n",
    "# Feel free to include links to documentation.\n",
    "print(\"And code snippets in the hint.\")\n",
    "```"
   ]
  },
  {
   "cell_type": "code",
   "execution_count": null,
   "metadata": {
    "ExecuteTime": {
     "end_time": "2018-03-12T14:48:58.106104Z",
     "start_time": "2018-03-12T14:48:57.705379Z"
    },
    "tags": [
     "@sample_code"
    ]
   },
   "outputs": [],
   "source": [
    "# steepest descent direction -- degrees left of east\n",
    "#                            -- ranges from -180 to 180\n",
    "# NOTE: do not convert to degrees if you wish to use a rose diagram\n",
    "slopedirection = np.rad2deg( np.arctan2(-dzdy,-dzdx) )\n",
    "\n",
    "# converts \"left of east\" to \"right of north\" (clockwise)\n",
    "slopedirection=90-slopedirection\n",
    "\n",
    "# Above ranges from -90 to 270 -- but we want 0 to 360\n",
    "# all angles less than zero: add 360o through BOOLEAN INDEXING\n",
    "# TRY COMMENTING THIS LINE AND SEE HOW IT CHANGES THE FIGURE\n",
    "slopedirection[slopedirection<0] = slopedirection[slopedirection<0]+360\n",
    "\n",
    "plt.imshow(slopedirection,origin='lower',cmap='jet',extent=[0,1600,0,1600],vmin=0,vmax=360)\n",
    "cbar = plt.colorbar(shrink=1,orientation='horizontal')\n",
    "plt.xticks(range(400,2000,400))\n",
    "plt.yticks(range(400,2000,400))\n",
    "cbar.set_ticks([0,90,180,270,360])\n",
    "cbar.set_label('steepest descent direction')\n",
    "# note 2 different colors correspond to North\n",
    "# this is why rose diagrams are good for showing angular data!\n",
    "cbar.set_ticklabels(['N','E','S','W','N'])\n",
    "\n"
   ]
  },
  {
   "cell_type": "code",
   "execution_count": null,
   "metadata": {
    "tags": [
     "@solution"
    ]
   },
   "outputs": [],
   "source": [
    "# steepest descent direction -- degrees left of east\n",
    "#                            -- ranges from -180 to 180\n",
    "# NOTE: do not convert to degrees if you wish to use a rose diagram\n",
    "slopedirection = np.rad2deg(np.arctan2(-dzdy,-dzdx))\n",
    "\n",
    "# converts \"left of east\" to \"right of north\" (clockwise)\n",
    "slopedirection=90-slopedirection\n",
    "\n",
    "# Above ranges from -90 to 270 -- but we want 0 to 360\n",
    "# all angles less than zero: add 360o through BOOLEAN INDEXING\n",
    "# TRY COMMENTING THIS LINE AND SEE HOW IT CHANGES THE FIGURE\n",
    "slopedirection[slopedirection<0] = slopedirection[slopedirection<0]+360\n",
    "\n",
    "plt.imshow(slopedirection,origin='lower',cmap='jet',extent=[0,1600,0,1600],vmin=0,vmax=360)\n",
    "cbar = plt.colorbar(shrink=1,orientation='horizontal')\n",
    "plt.xticks(range(400,2000,400))\n",
    "plt.yticks(range(400,2000,400))\n",
    "cbar.set_ticks([0,90,180,270,360])\n",
    "cbar.set_label('steepest descent direction')\n",
    "# note 2 different colors correspond to North\n",
    "# this is why rose diagrams are good for showing angular data!\n",
    "cbar.set_ticklabels(['N','E','S','W','N'])\n",
    "\n",
    "\n",
    "# The @solution should mirror the corresponding @sample_code,\n",
    "# but with the missing parts filled in.\n",
    "like_this = 'missing part filled in'\n",
    "\n",
    "# It should consist of up to 10 lines of code and comments \n",
    "# and take at most 5 seconds to execute on an average laptop."
   ]
  },
  {
   "cell_type": "code",
   "execution_count": null,
   "metadata": {
    "tags": [
     "@tests"
    ]
   },
   "outputs": [],
   "source": [
    "%%nose\n",
    "\n",
    "# one or more tests of the students code. \n",
    "# The @solution should pass the tests.\n",
    "# The purpose of the tests is to try to catch common errors and to \n",
    "# give the student a hint on how to resolve these errors.\n",
    "\n",
    "def test_example():\n",
    "    assert like_this == 'missing part filled in', \\\n",
    "    'The student will see this message if the test fails'"
   ]
  },
  {
   "cell_type": "markdown",
   "metadata": {
    "tags": [
     "type:NotebookTask"
    ]
   },
   "source": [
    "## 1f. Arthur's Seat: Plot a rose diagram of slope directions"
   ]
  },
  {
   "cell_type": "code",
   "execution_count": null,
   "metadata": {
    "tags": [
     "@context"
    ]
   },
   "outputs": [],
   "source": []
  },
  {
   "cell_type": "code",
   "execution_count": null,
   "metadata": {
    "tags": [
     "@instructions"
    ]
   },
   "outputs": [],
   "source": []
  },
  {
   "cell_type": "code",
   "execution_count": null,
   "metadata": {
    "tags": [
     "@hint"
    ]
   },
   "outputs": [],
   "source": []
  },
  {
   "cell_type": "code",
   "execution_count": null,
   "metadata": {
    "tags": [
     "@sample_code"
    ]
   },
   "outputs": [],
   "source": []
  },
  {
   "cell_type": "code",
   "execution_count": null,
   "metadata": {
    "tags": [
     "@solution"
    ]
   },
   "outputs": [],
   "source": []
  },
  {
   "cell_type": "code",
   "execution_count": null,
   "metadata": {
    "tags": [
     "@tests"
    ]
   },
   "outputs": [],
   "source": []
  },
  {
   "cell_type": "markdown",
   "metadata": {
    "tags": [
     "type:NotebookTask"
    ]
   },
   "source": [
    "## 1g. Arthur's Seat: Make histograms of the slope angles"
   ]
  },
  {
   "cell_type": "markdown",
   "metadata": {
    "tags": [
     "@context"
    ]
   },
   "source": [
    "Context / background / story / etc. This will show up in the student's notebook. It should at most have 800 characters and/or 3 paragraphs."
   ]
  },
  {
   "cell_type": "markdown",
   "metadata": {
    "tags": [
     "@instructions"
    ]
   },
   "source": [
    "The task instructions start with a brief sentence framing the task.\n",
    "\n",
    "- The specific task instructions go in a bullet point list.\n",
    "- One bullet per sub task.\n",
    "- At most 4 bullets.\n",
    "\n",
    "<hr>\n",
    "\n",
    "Give more info, context, and links to external documentation under the horizontal ruler. The instructions should at most have 600 characters."
   ]
  },
  {
   "cell_type": "markdown",
   "metadata": {
    "tags": [
     "@hint"
    ]
   },
   "source": [
    "This is a hint the student will get if they click the hint button at the bottom of the instructions. It's the last help the student can get, so make it helpful. \n",
    "\n",
    "```\n",
    "# Feel free to include links to documentation.\n",
    "print(\"And code snippets in the hint.\")\n",
    "```"
   ]
  },
  {
   "cell_type": "code",
   "execution_count": null,
   "metadata": {
    "ExecuteTime": {
     "end_time": "2018-03-12T14:51:21.476251Z",
     "start_time": "2018-03-12T14:51:20.833579Z"
    },
    "tags": [
     "@sample_code"
    ]
   },
   "outputs": [],
   "source": [
    "slopehigher = slopeangle[z>=100]\n",
    "slopelower = slopeangle[z<100]\n",
    "\n",
    "plt.subplot(1,2,1)\n",
    "plt.hist(slopelower)\n",
    "plt.xlabel('slope angle ($^{\\circ}$)')\n",
    "plt.title('pixels below 100m elev')\n",
    "plt.ylabel('count')\n",
    "\n",
    "plt.subplot(1,2,2)\n",
    "plt.hist(slopehigher)\n",
    "plt.title('pixels above 100m elev')\n",
    "plt.xlabel('slope angle ($^{\\circ}$)')\n",
    "plt.ylabel('count')\n"
   ]
  },
  {
   "cell_type": "code",
   "execution_count": null,
   "metadata": {
    "tags": [
     "@solution"
    ]
   },
   "outputs": [],
   "source": [
    "slopehigher = slopeangle[z>=100]\n",
    "slopelower = slopeangle[z<100]\n",
    "plt.subplot(1,2,1)\n",
    "plt.hist(slopelower)\n",
    "plt.xlabel('slope angle ($^{\\circ}$)')\n",
    "plt.title('pixels below 100m elev')\n",
    "plt.ylabel('count')\n",
    "plt.subplot(1,2,2)\n",
    "plt.hist(slopehigher)\n",
    "plt.title('pixels above 100m elev')\n",
    "plt.xlabel('slope angle ($^{\\circ}$)')\n",
    "plt.ylabel('count')"
   ]
  },
  {
   "cell_type": "code",
   "execution_count": null,
   "metadata": {
    "tags": [
     "@tests"
    ]
   },
   "outputs": [],
   "source": [
    "%%nose\n",
    "\n",
    "# one or more tests of the students code. \n",
    "# The @solution should pass the tests.\n",
    "# The purpose of the tests is to try to catch common errors and to \n",
    "# give the student a hint on how to resolve these errors.\n",
    "\n",
    "def test_example():\n",
    "    assert like_this == 'missing part filled in', \\\n",
    "    'The student will see this message if the test fails'"
   ]
  },
  {
   "cell_type": "markdown",
   "metadata": {
    "tags": [
     "type:NotebookTask"
    ]
   },
   "source": [
    "## 6. Here goes the title of the sixth task (<= 55 chars)"
   ]
  },
  {
   "cell_type": "markdown",
   "metadata": {
    "tags": [
     "@context"
    ]
   },
   "source": [
    "finally -- see what happens when we change slope angle by 360\n",
    "\n",
    "Result is physically meaningless but demonstrates effect of boolean indexing\n",
    "\n",
    "We need to create a new variable as modifying slopeangle will modify above figures\n",
    "This is a peculiarity of python and plot.show() -- plots have not actually been drawn yet and changing arrays of plots above will have effects"
   ]
  },
  {
   "cell_type": "markdown",
   "metadata": {
    "tags": [
     "@instructions"
    ]
   },
   "source": [
    "The task instructions start with a brief sentence framing the task.\n",
    "\n",
    "- The specific task instructions go in a bullet point list.\n",
    "- One bullet per sub task.\n",
    "- At most 4 bullets.\n",
    "\n",
    "<hr>\n",
    "\n",
    "Give more info, context, and links to external documentation under the horizontal ruler. The instructions should at most have 600 characters."
   ]
  },
  {
   "cell_type": "markdown",
   "metadata": {
    "tags": [
     "@hint"
    ]
   },
   "source": [
    "This is a hint the student will get if they click the hint button at the bottom of the instructions. It's the last help the student can get, so make it helpful. \n",
    "\n",
    "```\n",
    "# Feel free to include links to documentation.\n",
    "print(\"And code snippets in the hint.\")\n",
    "```"
   ]
  },
  {
   "cell_type": "code",
   "execution_count": null,
   "metadata": {
    "ExecuteTime": {
     "end_time": "2018-03-12T14:51:42.025987Z",
     "start_time": "2018-03-12T14:51:41.690038Z"
    },
    "tags": [
     "@sample_code"
    ]
   },
   "outputs": [],
   "source": [
    "slopeangle2 = slopeangle\n",
    "slopeangle2[z>=100]=slopeangle2[z>=100]+360\n",
    "plt.figure(4)\n",
    "plt.imshow(slopeangle,origin='lower',cmap='jet',extent=[0,1600,0,1600])\n",
    "plt.colorbar()\n"
   ]
  },
  {
   "cell_type": "code",
   "execution_count": null,
   "metadata": {
    "tags": [
     "@solution"
    ]
   },
   "outputs": [],
   "source": [
    "# Your solution code. This won't be shown to the student.\n",
    "\n",
    "# The @solution should mirror the corresponding @sample_code,\n",
    "# but with the missing parts filled in.\n",
    "like_this = 'missing part filled in'\n",
    "\n",
    "# It should consist of up to 10 lines of code and comments \n",
    "# and take at most 5 seconds to execute on an average laptop."
   ]
  },
  {
   "cell_type": "code",
   "execution_count": null,
   "metadata": {
    "tags": [
     "@tests"
    ]
   },
   "outputs": [],
   "source": [
    "%%nose\n",
    "\n",
    "# one or more tests of the students code. \n",
    "# The @solution should pass the tests.\n",
    "# The purpose of the tests is to try to catch common errors and to \n",
    "# give the student a hint on how to resolve these errors.\n",
    "\n",
    "def test_example():\n",
    "    assert like_this == 'missing part filled in', \\\n",
    "    'The student will see this message if the test fails'"
   ]
  },
  {
   "cell_type": "markdown",
   "metadata": {
    "tags": [
     "type:NotebookTask"
    ]
   },
   "source": [
    "## 2. Mount St. Helens Topography"
   ]
  },
  {
   "cell_type": "markdown",
   "metadata": {
    "tags": [
     "@context"
    ]
   },
   "source": [
    "Let's switch location and resuse some of the code you develped above to present the topography of Mnt. St.Helens."
   ]
  },
  {
   "cell_type": "markdown",
   "metadata": {
    "tags": [
     "@instructions"
    ]
   },
   "source": [
    "- Load the file \"datasets/MtStHelens.txt\" which is a DEM of Mount St Helens on an 800×800 point grid with 20 m horizontal spacing. \n",
    "- Copy the relevant code from above and modify it to visualise the topographic map.\n",
    "- Give the plot a suitable title and scale the domain appropriately.\n",
    "- Set suitable tick labels for the colorscale. "
   ]
  },
  {
   "cell_type": "markdown",
   "metadata": {
    "tags": [
     "@hint"
    ]
   },
   "source": [
    "- In order to inform your choice of tick labels, you can find the minimum and maximum elevations using `z.min()` and `z.max()`."
   ]
  },
  {
   "cell_type": "code",
   "execution_count": 7,
   "metadata": {
    "ExecuteTime": {
     "end_time": "2018-03-13T14:26:35.937150Z",
     "start_time": "2018-03-13T14:26:35.244465Z"
    },
    "tags": [
     "@sample_code"
    ]
   },
   "outputs": [
    {
     "data": {
      "image/png": "[encoded data removed]",
      "text/plain": [
       "<matplotlib.figure.Figure at 0x10b6f0c50>"
      ]
     },
     "metadata": {},
     "output_type": "display_data"
    }
   ],
   "source": [
    "# Copy appropriate code from above and modify"
   ]
  },
  {
   "cell_type": "code",
   "execution_count": null,
   "metadata": {
    "tags": [
     "@solution"
    ]
   },
   "outputs": [],
   "source": [
    "import numpy as np\n",
    "import matplotlib.pyplot as plt\n",
    "\n",
    "z=np.loadtxt('datasets/MtStHelens.txt')\n",
    "\n",
    "plt.imshow(z,origin='lower',cmap='gray',extent=[0,1600,0,1600])\n",
    "\n",
    "cbar = plt.colorbar(shrink=1)\n",
    "cbar.set_label('Elevation (m)')\n",
    "cbar.set_ticks([50,100,150,200])\n",
    "plt.title('Mt. St. Helens elevation')\n",
    "\n",
    "like_this = 'missing part filled in'"
   ]
  },
  {
   "cell_type": "code",
   "execution_count": null,
   "metadata": {
    "tags": [
     "@tests"
    ]
   },
   "outputs": [],
   "source": [
    "%%nose\n",
    "\n",
    "# one or more tests of the students code. \n",
    "# The @solution should pass the tests.\n",
    "# The purpose of the tests is to try to catch common errors and to \n",
    "# give the student a hint on how to resolve these errors.\n",
    "\n",
    "def test_example():\n",
    "    assert like_this == 'missing part filled in', \\\n",
    "    'The student will see this message if the test fails'"
   ]
  },
  {
   "cell_type": "markdown",
   "metadata": {
    "tags": [
     "type:NotebookTask"
    ]
   },
   "source": [
    "## 3. Analysis of Pressure and Wind Speed Maps"
   ]
  },
  {
   "cell_type": "markdown",
   "metadata": {
    "tags": [
     "@context"
    ]
   },
   "source": [
    "Files `Psurf.txt`, `Uwind.txt` and `Vwind.txt` also sit in the dataset folder. They contain forecasts of surface pressure (hPa) and westerly and southerly components of the wind (m s$^{-1}$) at 10 m height over the North Atlantic on 1 September 2010."
   ]
  },
  {
   "cell_type": "markdown",
   "metadata": {
    "tags": [
     "@instructions"
    ]
   },
   "source": [
    "Let's make a single plot showing wind speed with colours, pressure with contours (isobars) and vectors to show the wind-velocity.\n",
    "\n",
    "- Load the data-files\n",
    "- Calculate the speed in each cell using Pythagorous\n",
    "- Contour the pressure data\n",
    "- If you have named the arrays holding the westerly and southerly wind vector components `u` and `v`, wind vector arrows can be simply added to the plot by `plt.quiver(u,v)`\n",
    "- Add sensible labels to complete the image\n",
    "- If you know a little meteorology, you will be able to check that the relationship between the isobars and the wind vectors makes sense\n"
   ]
  },
  {
   "cell_type": "code",
   "execution_count": null,
   "metadata": {
    "tags": [
     "@hints"
    ]
   },
   "outputs": [],
   "source": []
  },
  {
   "cell_type": "code",
   "execution_count": 24,
   "metadata": {
    "ExecuteTime": {
     "end_time": "2018-03-14T11:19:26.397878Z",
     "start_time": "2018-03-14T11:19:26.293004Z"
    },
    "tags": [
     "@sample_code"
    ]
   },
   "outputs": [
    {
     "ename": "OSError",
     "evalue": " not found.",
     "output_type": "error",
     "traceback": [
      "\u001b[0;31m---------------------------------------------------------------------------\u001b[0m",
      "\u001b[0;31mOSError\u001b[0m                                   Traceback (most recent call last)",
      "\u001b[0;32m<ipython-input-24-99a5c11b8260>\u001b[0m in \u001b[0;36m<module>\u001b[0;34m()\u001b[0m\n\u001b[1;32m      4\u001b[0m \u001b[0;34m\u001b[0m\u001b[0m\n\u001b[1;32m      5\u001b[0m \u001b[0;31m# Load pressure data\u001b[0m\u001b[0;34m\u001b[0m\u001b[0;34m\u001b[0m\u001b[0m\n\u001b[0;32m----> 6\u001b[0;31m \u001b[0mP\u001b[0m \u001b[0;34m=\u001b[0m \u001b[0mnp\u001b[0m\u001b[0;34m.\u001b[0m\u001b[0mloadtxt\u001b[0m\u001b[0;34m(\u001b[0m\u001b[0m___\u001b[0m\u001b[0;34m)\u001b[0m\u001b[0;34m\u001b[0m\u001b[0m\n\u001b[0m\u001b[1;32m      7\u001b[0m \u001b[0;34m\u001b[0m\u001b[0m\n\u001b[1;32m      8\u001b[0m \u001b[0;31m# Load EW and NS wind speeds\u001b[0m\u001b[0;34m\u001b[0m\u001b[0;34m\u001b[0m\u001b[0m\n",
      "\u001b[0;32m~/anaconda3/envs/obspy_3.6/lib/python3.6/site-packages/numpy/lib/npyio.py\u001b[0m in \u001b[0;36mloadtxt\u001b[0;34m(fname, dtype, comments, delimiter, converters, skiprows, usecols, unpack, ndmin, encoding)\u001b[0m\n\u001b[1;32m    915\u001b[0m             \u001b[0mfname\u001b[0m \u001b[0;34m=\u001b[0m \u001b[0mstr\u001b[0m\u001b[0;34m(\u001b[0m\u001b[0mfname\u001b[0m\u001b[0;34m)\u001b[0m\u001b[0;34m\u001b[0m\u001b[0m\n\u001b[1;32m    916\u001b[0m         \u001b[0;32mif\u001b[0m \u001b[0m_is_string_like\u001b[0m\u001b[0;34m(\u001b[0m\u001b[0mfname\u001b[0m\u001b[0;34m)\u001b[0m\u001b[0;34m:\u001b[0m\u001b[0;34m\u001b[0m\u001b[0m\n\u001b[0;32m--> 917\u001b[0;31m             \u001b[0mfh\u001b[0m \u001b[0;34m=\u001b[0m \u001b[0mnp\u001b[0m\u001b[0;34m.\u001b[0m\u001b[0mlib\u001b[0m\u001b[0;34m.\u001b[0m\u001b[0m_datasource\u001b[0m\u001b[0;34m.\u001b[0m\u001b[0mopen\u001b[0m\u001b[0;34m(\u001b[0m\u001b[0mfname\u001b[0m\u001b[0;34m,\u001b[0m \u001b[0;34m'rt'\u001b[0m\u001b[0;34m,\u001b[0m \u001b[0mencoding\u001b[0m\u001b[0;34m=\u001b[0m\u001b[0mencoding\u001b[0m\u001b[0;34m)\u001b[0m\u001b[0;34m\u001b[0m\u001b[0m\n\u001b[0m\u001b[1;32m    918\u001b[0m             \u001b[0mfencoding\u001b[0m \u001b[0;34m=\u001b[0m \u001b[0mgetattr\u001b[0m\u001b[0;34m(\u001b[0m\u001b[0mfh\u001b[0m\u001b[0;34m,\u001b[0m \u001b[0;34m'encoding'\u001b[0m\u001b[0;34m,\u001b[0m \u001b[0;34m'latin1'\u001b[0m\u001b[0;34m)\u001b[0m\u001b[0;34m\u001b[0m\u001b[0m\n\u001b[1;32m    919\u001b[0m             \u001b[0mfh\u001b[0m \u001b[0;34m=\u001b[0m \u001b[0miter\u001b[0m\u001b[0;34m(\u001b[0m\u001b[0mfh\u001b[0m\u001b[0;34m)\u001b[0m\u001b[0;34m\u001b[0m\u001b[0m\n",
      "\u001b[0;32m~/anaconda3/envs/obspy_3.6/lib/python3.6/site-packages/numpy/lib/_datasource.py\u001b[0m in \u001b[0;36mopen\u001b[0;34m(path, mode, destpath, encoding, newline)\u001b[0m\n\u001b[1;32m    258\u001b[0m \u001b[0;34m\u001b[0m\u001b[0m\n\u001b[1;32m    259\u001b[0m     \u001b[0mds\u001b[0m \u001b[0;34m=\u001b[0m \u001b[0mDataSource\u001b[0m\u001b[0;34m(\u001b[0m\u001b[0mdestpath\u001b[0m\u001b[0;34m)\u001b[0m\u001b[0;34m\u001b[0m\u001b[0m\n\u001b[0;32m--> 260\u001b[0;31m     \u001b[0;32mreturn\u001b[0m \u001b[0mds\u001b[0m\u001b[0;34m.\u001b[0m\u001b[0mopen\u001b[0m\u001b[0;34m(\u001b[0m\u001b[0mpath\u001b[0m\u001b[0;34m,\u001b[0m \u001b[0mmode\u001b[0m\u001b[0;34m,\u001b[0m \u001b[0mencoding\u001b[0m\u001b[0;34m=\u001b[0m\u001b[0mencoding\u001b[0m\u001b[0;34m,\u001b[0m \u001b[0mnewline\u001b[0m\u001b[0;34m=\u001b[0m\u001b[0mnewline\u001b[0m\u001b[0;34m)\u001b[0m\u001b[0;34m\u001b[0m\u001b[0m\n\u001b[0m\u001b[1;32m    261\u001b[0m \u001b[0;34m\u001b[0m\u001b[0m\n\u001b[1;32m    262\u001b[0m \u001b[0;34m\u001b[0m\u001b[0m\n",
      "\u001b[0;32m~/anaconda3/envs/obspy_3.6/lib/python3.6/site-packages/numpy/lib/_datasource.py\u001b[0m in \u001b[0;36mopen\u001b[0;34m(self, path, mode, encoding, newline)\u001b[0m\n\u001b[1;32m    614\u001b[0m                                       encoding=encoding, newline=newline)\n\u001b[1;32m    615\u001b[0m         \u001b[0;32melse\u001b[0m\u001b[0;34m:\u001b[0m\u001b[0;34m\u001b[0m\u001b[0m\n\u001b[0;32m--> 616\u001b[0;31m             \u001b[0;32mraise\u001b[0m \u001b[0mIOError\u001b[0m\u001b[0;34m(\u001b[0m\u001b[0;34m\"%s not found.\"\u001b[0m \u001b[0;34m%\u001b[0m \u001b[0mpath\u001b[0m\u001b[0;34m)\u001b[0m\u001b[0;34m\u001b[0m\u001b[0m\n\u001b[0m\u001b[1;32m    617\u001b[0m \u001b[0;34m\u001b[0m\u001b[0m\n\u001b[1;32m    618\u001b[0m \u001b[0;34m\u001b[0m\u001b[0m\n",
      "\u001b[0;31mOSError\u001b[0m:  not found."
     ]
    }
   ],
   "source": [
    "import numpy as np\n",
    "import matplotlib.pyplot as plt\n",
    "from matplotlib.mlab import griddata\n",
    "\n",
    "# Load pressure data\n",
    "P = np.loadtxt(___)\n",
    "\n",
    "# Load EW and NS wind speeds\n",
    "u = np.loadtxt(___)\n",
    "v = np.loadtxt(___)\n",
    "\n",
    "# Calculate the total speed using pythagarous\n",
    "speed = ___\n",
    "\n",
    "# Plot the image of wind-speeds\n",
    "plt.imshow(___, origin='lower',cmap='jet')\n",
    "cbar = plt.colorbar(shrink=1)\n",
    "\n",
    "# Add contours of pressure\n",
    "cs = plt.contour(___ , colors='black')\n",
    "plt.clabel(cs, fmt='%d')\n",
    "\n",
    "# Add vectors of wind velocity\n",
    "plt.quiver(___, ___)\n",
    "\n",
    "# Tidy the labelling of the image\n",
    "cbar.set_label(___)\n",
    "cbar.set_ticks([___,___,___,___])\n",
    "plt.title(___)"
   ]
  },
  {
   "cell_type": "code",
   "execution_count": 23,
   "metadata": {
    "ExecuteTime": {
     "end_time": "2018-03-14T11:12:48.551040Z",
     "start_time": "2018-03-14T11:12:48.035587Z"
    },
    "tags": [
     "@solution"
    ]
   },
   "outputs": [
    {
     "data": {
      "image/png": "[encoded data removed]",
      "text/plain": [
       "<matplotlib.figure.Figure at 0x11a60af98>"
      ]
     },
     "metadata": {},
     "output_type": "display_data"
    }
   ],
   "source": [
    "import numpy as np\n",
    "import matplotlib.pyplot as plt\n",
    "from matplotlib.mlab import griddata\n",
    "\n",
    "# Load pressure data\n",
    "P = np.loadtxt('datasets/Psurf.txt')\n",
    "\n",
    "# Load EW and NS wind speeds\n",
    "u = np.loadtxt('datasets/Uwind.txt')\n",
    "v = np.loadtxt('datasets/Vwind.txt')\n",
    "\n",
    "# Calculate the total speed using pythagarous\n",
    "speed = np.sqrt(u**2 + v**2)\n",
    "\n",
    "# Plot the image of wind-speeds\n",
    "plt.imshow(speed, origin='lower',cmap='jet')\n",
    "cbar = plt.colorbar(shrink=1)\n",
    "\n",
    "# Add contours of pressure\n",
    "cs = plt.contour(P,colors='black')\n",
    "plt.clabel(cs, fmt='%d')\n",
    "\n",
    "# Add vectors of wind velocity\n",
    "plt.quiver(u,v)\n",
    "\n",
    "# Tidy the labelling of the image\n",
    "cbar.set_label('Wind speed (m/s)')\n",
    "cbar.set_ticks([0,5,10,15])\n",
    "plt.title('pressure (contours, mBar) and wind speed')"
   ]
  },
  {
   "cell_type": "code",
   "execution_count": null,
   "metadata": {
    "tags": [
     "@tests"
    ]
   },
   "outputs": [],
   "source": []
  }
 ],
 "metadata": {
  "celltoolbar": "Tags",
  "kernelspec": {
   "display_name": "Python 3",
   "language": "python",
   "name": "python3"
  },
  "language_info": {
   "codemirror_mode": {
    "name": "ipython",
    "version": 3
   },
   "file_extension": ".py",
   "mimetype": "text/x-python",
   "name": "python",
   "nbconvert_exporter": "python",
   "pygments_lexer": "ipython3",
   "version": "3.6.4"
  },
  "toc": {
   "nav_menu": {},
   "number_sections": false,
   "sideBar": true,
   "skip_h1_title": false,
   "title_cell": "Table of Contents",
   "title_sidebar": "Contents",
   "toc_cell": false,
   "toc_position": {},
   "toc_section_display": true,
   "toc_window_display": false
  }
 },
 "nbformat": 4,
 "nbformat_minor": 2
}
